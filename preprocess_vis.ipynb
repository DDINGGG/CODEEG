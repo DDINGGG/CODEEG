{
 "cells": [
  {
   "cell_type": "markdown",
   "metadata": {},
   "source": [
    "# Preprocessing Visualization"
   ]
  },
  {
   "cell_type": "code",
   "execution_count": 1,
   "metadata": {},
   "outputs": [],
   "source": [
    "import os\n",
    "from PIL import Image"
   ]
  },
  {
   "cell_type": "code",
   "execution_count": 2,
   "metadata": {},
   "outputs": [],
   "source": [
    "tops_init_path = './images/tops_init'\n",
    "tops_output_path = './images/tops'\n",
    "bottoms_init_path = './images/bottoms_init'\n",
    "bottoms_output_path = './images/bottoms'\n",
    "combination_path = './images/combinations'\n",
    "\n",
    "# Create directories if they don't exist\n",
    "for path in [tops_init_path, tops_output_path, bottoms_init_path, bottoms_output_path, combination_path]:\n",
    "    if not os.path.exists(path):\n",
    "        os.makedirs(path)"
   ]
  },
  {
   "cell_type": "markdown",
   "metadata": {},
   "source": [
    "## 1. Resize images in a folder to the target size, with additional statistics."
   ]
  },
  {
   "cell_type": "code",
   "execution_count": 20,
   "metadata": {},
   "outputs": [],
   "source": [
    "def resize_images_in_folder(folder_path, output_folder, target_size=()):\n",
    "    \"\"\"\n",
    "    Resize images in a folder to the target size, with additional statistics.\n",
    "\n",
    "    Args:\n",
    "        folder_path (str): Path to the folder containing images.\n",
    "        output_folder (str): Path to save resized images.\n",
    "        target_size (tuple): Target size as (width, height). Automatically set for `tops_init` and `bottoms_init`.\n",
    "    \"\"\"\n",
    "    # Automatically set target_size based on folder name\n",
    "    folder_name = os.path.basename(folder_path)\n",
    "    if folder_name == \"tops_init\":\n",
    "        target_size = (512, 512)\n",
    "    elif folder_name == \"bottoms_init\":\n",
    "        target_size = (400, 600)\n",
    "    elif not target_size:\n",
    "        raise ValueError(\"Target size must be specified if folder name is not 'tops_init' or 'bottoms_init'.\")\n",
    "\n",
    "    if not os.path.exists(output_folder):\n",
    "        os.makedirs(output_folder)\n",
    "    \n",
    "    min_width, min_height = float('inf'), float('inf')\n",
    "    total_width, total_height = 0, 0\n",
    "    image_count = 0\n",
    "    \n",
    "    # Calculate minimum width and height\n",
    "    for file_name in os.listdir(folder_path):\n",
    "        file_path = os.path.join(folder_path, file_name)\n",
    "        if file_name.lower().endswith(('.png', '.jpg', '.jpeg', '.bmp', '.gif')):\n",
    "            with Image.open(file_path) as img:\n",
    "                width, height = img.size\n",
    "                min_width = min(min_width, width)\n",
    "                min_height = min(min_height, height)\n",
    "\n",
    "    print(f\"Minimum Width: {min_width}\\nMinimum Height: {min_height}\")\n",
    "    \n",
    "    # Resize images and collect statistics\n",
    "    for file_name in os.listdir(folder_path):\n",
    "        file_path = os.path.join(folder_path, file_name)\n",
    "        if file_name.lower().endswith(('.png', '.jpg', '.jpeg', '.bmp', '.gif')):\n",
    "            with Image.open(file_path) as img:\n",
    "                # Convert RGBA to RGB if necessary\n",
    "                if img.mode == 'RGBA':\n",
    "                    img = img.convert('RGB')\n",
    "                resized_img = img.resize(target_size)\n",
    "                output_file_path = os.path.join(output_folder, file_name)\n",
    "                # Ensure the correct extension for saving\n",
    "                if not output_file_path.lower().endswith(('.jpg', '.jpeg')):\n",
    "                    output_file_path = os.path.splitext(output_file_path)[0] + \".jpg\"\n",
    "                resized_img.save(output_file_path, format='JPEG')\n",
    "                \n",
    "                # Update statistics\n",
    "                total_width += resized_img.width\n",
    "                total_height += resized_img.height\n",
    "                image_count += 1\n",
    "\n",
    "    # Calculate and print averages\n",
    "    if image_count > 0:\n",
    "        avg_width = total_width / image_count\n",
    "        avg_height = total_height / image_count\n",
    "        print(f\"Average Width: {avg_width:.2f}\\nAverage Height: {avg_height:.2f}\")\n",
    "    else:\n",
    "        print(\"No images were resized.\")\n",
    "    \n",
    "    # Check output directory image statistics\n",
    "    ext_counts = {}\n",
    "    for file_name in os.listdir(output_folder):\n",
    "        ext = os.path.splitext(file_name)[1].lower()\n",
    "        ext_counts[ext] = ext_counts.get(ext, 0) + 1\n",
    "    print(f\"Total Images in Output Folder: {sum(ext_counts.values())}\")\n",
    "    print(\"Image Extensions Count:\", \", \".join([f\"{count} images with '{ext}' extension\\n\" for ext, count in ext_counts.items()]))"
   ]
  },
  {
   "cell_type": "markdown",
   "metadata": {},
   "source": [
    "### RUN\n",
    "Tops -> Automatically (512, 512)"
   ]
  },
  {
   "cell_type": "code",
   "execution_count": 21,
   "metadata": {},
   "outputs": [
    {
     "name": "stdout",
     "output_type": "stream",
     "text": [
      "Minimum Width: 532\n",
      "Minimum Height: 529\n",
      "Average Width: 512.00\n",
      "Average Height: 512.00\n",
      "Total Images in Output Folder: 15\n",
      "Image Extensions Count: 15 images with '.jpg' extension\n",
      "\n"
     ]
    }
   ],
   "source": [
    "resize_images_in_folder(tops_init_path, tops_output_path)  "
   ]
  },
  {
   "cell_type": "markdown",
   "metadata": {},
   "source": [
    "Bottoms -> Automatically (400, 600)"
   ]
  },
  {
   "cell_type": "code",
   "execution_count": 22,
   "metadata": {},
   "outputs": [
    {
     "name": "stdout",
     "output_type": "stream",
     "text": [
      "Minimum Width: 426\n",
      "Minimum Height: 622\n",
      "Average Width: 400.00\n",
      "Average Height: 600.00\n",
      "Total Images in Output Folder: 15\n",
      "Image Extensions Count: 15 images with '.jpg' extension\n",
      "\n"
     ]
    }
   ],
   "source": [
    "resize_images_in_folder(bottoms_init_path, bottoms_output_path)"
   ]
  },
  {
   "cell_type": "markdown",
   "metadata": {},
   "source": [
    "Custom size"
   ]
  },
  {
   "cell_type": "code",
   "execution_count": 23,
   "metadata": {},
   "outputs": [],
   "source": [
    "# resize_images_in_folder('path_to_custom_folder', 'path_to_output_folder', (300, 300)) "
   ]
  },
  {
   "cell_type": "markdown",
   "metadata": {},
   "source": [
    "## 2. Combine top and bottom images vertically to create a single image."
   ]
  },
  {
   "cell_type": "code",
   "execution_count": 9,
   "metadata": {},
   "outputs": [],
   "source": [
    "def combine_images(top_folder, bottom_folder, output_folder):\n",
    "    \"\"\"\n",
    "    Combine top and bottom images vertically to create a single image.\n",
    "    \n",
    "    Args:\n",
    "        top_folder (str): Path to the folder containing top images.\n",
    "        bottom_folder (str): Path to the folder containing bottom images.\n",
    "        output_folder (str): Path to save combined images.\n",
    "    \"\"\"\n",
    "    if not os.path.exists(output_folder):\n",
    "        os.makedirs(output_folder)\n",
    "    \n",
    "    top_images = [f for f in os.listdir(top_folder) if f.lower().endswith(('.png', '.jpg', '.jpeg', '.bmp', '.gif'))]\n",
    "    bottom_images = [f for f in os.listdir(bottom_folder) if f.lower().endswith(('.png', '.jpg', '.jpeg', '.bmp', '.gif'))]\n",
    "    \n",
    "    for top_image in top_images:\n",
    "        for bottom_image in bottom_images:\n",
    "            top_path = os.path.join(top_folder, top_image)\n",
    "            bottom_path = os.path.join(bottom_folder, bottom_image)\n",
    "            \n",
    "            with Image.open(top_path) as top, Image.open(bottom_path) as bottom:\n",
    "                # Ensure both images have the same width for seamless combination\n",
    "                new_width = max(top.width, bottom.width)\n",
    "                top = top.resize((new_width, int(top.height * new_width / top.width)))\n",
    "                bottom = bottom.resize((new_width, int(bottom.height * new_width / bottom.width)))\n",
    "                \n",
    "                # Create a blank canvas for the combined image\n",
    "                combined_height = top.height + bottom.height\n",
    "                combined_image = Image.new('RGB', (new_width, combined_height))\n",
    "                \n",
    "                # Paste the two images\n",
    "                combined_image.paste(top, (0, 0))\n",
    "                combined_image.paste(bottom, (0, top.height))\n",
    "                \n",
    "                # Save with a descriptive name\n",
    "                combined_name = f\"{os.path.splitext(top_image)[0]}_{os.path.splitext(bottom_image)[0]}.jpg\"\n",
    "                combined_image.save(os.path.join(output_folder, combined_name))\n",
    "    print(f\"All combinations saved in {output_folder}.\")"
   ]
  },
  {
   "cell_type": "markdown",
   "metadata": {},
   "source": [
    "### RUN"
   ]
  },
  {
   "cell_type": "code",
   "execution_count": 10,
   "metadata": {},
   "outputs": [
    {
     "name": "stdout",
     "output_type": "stream",
     "text": [
      "All combinations saved in ./images/combinations.\n"
     ]
    }
   ],
   "source": [
    "combine_images(tops_output_path, bottoms_output_path, combination_path)"
   ]
  },
  {
   "cell_type": "code",
   "execution_count": 13,
   "metadata": {},
   "outputs": [],
   "source": [
    "def images_info(folder_path, output_folder):\n",
    "    \"\"\"\n",
    "    Resize images in a folder to the target size, with additional statistics.\n",
    "\n",
    "    Args:\n",
    "        folder_path (str): Path to the folder containing images.\n",
    "        output_folder (str): Path to save resized images.\n",
    "        target_size (tuple): Target size as (width, height). Automatically set for `tops_init` and `bottoms_init`.\n",
    "    \"\"\"\n",
    "\n",
    "    \n",
    "    min_width, min_height = float('inf'), float('inf')\n",
    "    max_width, max_height = 0, 0,\n",
    "    total_width, total_height = 0, 0\n",
    "    image_count = 0\n",
    "    \n",
    "    # Calculate minimum width and height\n",
    "    for file_name in os.listdir(folder_path):\n",
    "        file_path = os.path.join(folder_path, file_name)\n",
    "        if file_name.lower().endswith(('.png', '.jpg', '.jpeg', '.bmp', '.gif')):\n",
    "            with Image.open(file_path) as img:\n",
    "                width, height = img.size\n",
    "                min_width = min(min_width, width)\n",
    "                min_height = min(min_height, height)\n",
    "                max_width = max(max_width, width)\n",
    "                max_height = max(max_height, height)\n",
    "\n",
    "    print(f\"Minimum Width: {min_width}\\nMinimum Height: {min_height}\")\n",
    "    print(f\"Maximum Width: {max_width}\\nMaximum Height: {max_height}\")\n",
    "\n",
    "    # Calculate and print averages\n",
    "    if image_count > 0:\n",
    "        avg_width = total_width / image_count\n",
    "        avg_height = total_height / image_count\n",
    "        print(f\"Average Width: {avg_width:.2f}\\nAverage Height: {avg_height:.2f}\")\n",
    "    else:\n",
    "        print(\"No images were resized.\")\n",
    "    \n",
    "    # Check output directory image statistics\n",
    "    ext_counts = {}\n",
    "    for file_name in os.listdir(output_folder):\n",
    "        ext = os.path.splitext(file_name)[1].lower()\n",
    "        ext_counts[ext] = ext_counts.get(ext, 0) + 1\n",
    "    print(f\"Total Images in Output Folder: {sum(ext_counts.values())}\")\n",
    "    print(\"Image Extensions Count:\", \", \".join([f\"{count} images with '{ext}' extension\\n\" for ext, count in ext_counts.items()]))"
   ]
  },
  {
   "cell_type": "code",
   "execution_count": 14,
   "metadata": {},
   "outputs": [
    {
     "name": "stdout",
     "output_type": "stream",
     "text": [
      "Minimum Width: 512\n",
      "Minimum Height: 1112\n",
      "Maximum Width: 512\n",
      "Maximum Height: 1112\n",
      "No images were resized.\n",
      "Total Images in Output Folder: 900\n",
      "Image Extensions Count: 900 images with '.jpg' extension\n",
      "\n"
     ]
    }
   ],
   "source": [
    "images_info(combination_path, combination_path)"
   ]
  },
  {
   "cell_type": "code",
   "execution_count": null,
   "metadata": {},
   "outputs": [],
   "source": []
  }
 ],
 "metadata": {
  "kernelspec": {
   "display_name": "DL",
   "language": "python",
   "name": "python3"
  },
  "language_info": {
   "codemirror_mode": {
    "name": "ipython",
    "version": 3
   },
   "file_extension": ".py",
   "mimetype": "text/x-python",
   "name": "python",
   "nbconvert_exporter": "python",
   "pygments_lexer": "ipython3",
   "version": "3.9.7"
  }
 },
 "nbformat": 4,
 "nbformat_minor": 2
}
